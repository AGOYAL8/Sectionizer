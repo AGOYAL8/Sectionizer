{
 "cells": [
  {
   "cell_type": "code",
   "execution_count": 1,
   "metadata": {},
   "outputs": [],
   "source": [
    "from sklearn.metrics import classification_report\n",
    "from sklearn.model_selection import train_test_split\n",
    "from scipy import stats\n",
    "from sklearn.naive_bayes import BernoulliNB\n",
    "from sklearn.linear_model import RidgeClassifier\n",
    "from sklearn.svm import SVC\n",
    "from sklearn.linear_model import LogisticRegression\n",
    "from sklearn.metrics import confusion_matrix\n",
    "from sklearn.metrics import accuracy_score\n",
    "import pandas as pd\n",
    "from matplotlib import pylab as plt\n",
    "import seaborn as sns\n",
    "from sklearn import metrics"
   ]
  },
  {
   "cell_type": "code",
   "execution_count": 2,
   "metadata": {},
   "outputs": [
    {
     "name": "stdout",
     "output_type": "stream",
     "text": [
      "   ï»¿same_section  stem_glove_softcosine  lemma_glove_softcosine  \\\n",
      "0                0               0.391914                0.550852   \n",
      "1                0               0.407443                0.550275   \n",
      "2                1               0.330539                0.391165   \n",
      "3                1               0.583863                0.614749   \n",
      "4                1               0.582655                0.599762   \n",
      "\n",
      "   Stem_fasttext_softcosine  lemme_fasttext_softcosine  stem_tfidf_cosine  \\\n",
      "0                  0.307312                   0.476925           0.048413   \n",
      "1                  0.331691                   0.453154           0.072740   \n",
      "2                  0.233152                   0.286798           0.037602   \n",
      "3                  0.344585                   0.391058           0.044048   \n",
      "4                  0.370103                   0.397664           0.032196   \n",
      "\n",
      "   stem_cv_cosine  lemma_tfidf_cosine  lemma_cv_cosine  \n",
      "0        0.091162            0.039694         0.075167  \n",
      "1        0.133446            0.057552         0.107450  \n",
      "2        0.071377            0.023680         0.045385  \n",
      "3        0.083225            0.035208         0.067117  \n",
      "4        0.061301            0.023493         0.045090  \n"
     ]
    }
   ],
   "source": [
    "df = pd.read_csv('/Users/anshulgoyal/Downloads/sectionizer_final.csv', sep=',', encoding= 'unicode_escape')\n",
    "print(df.head())"
   ]
  },
  {
   "cell_type": "code",
   "execution_count": 3,
   "metadata": {},
   "outputs": [],
   "source": [
    "same_section = df['ï»¿same_section']\n",
    "df['same_section'] = same_section\n",
    "\n",
    "### selecting only cosine similarity columns for presentation. GLOVE and fastTEXT embeddings have higher time complexity.\n",
    "df.drop(['ï»¿same_section','stem_glove_softcosine','lemma_glove_softcosine','Stem_fasttext_softcosine','lemme_fasttext_softcosine'], axis=1,inplace=True)"
   ]
  },
  {
   "cell_type": "code",
   "execution_count": 4,
   "metadata": {},
   "outputs": [],
   "source": [
    "y = df['same_section']\n",
    "x = df.drop(['same_section'], axis=1)\n",
    "x_train, x_test, y_train, y_test = train_test_split(x, y, test_size=0.2)"
   ]
  },
  {
   "cell_type": "code",
   "execution_count": 5,
   "metadata": {},
   "outputs": [
    {
     "name": "stdout",
     "output_type": "stream",
     "text": [
      "*********RF Algorithm******\n",
      "Classification Report\n",
      "              precision    recall  f1-score   support\n",
      "\n",
      "           0       0.89      0.98      0.93       218\n",
      "           1       0.29      0.07      0.11        29\n",
      "\n",
      "    accuracy                           0.87       247\n",
      "   macro avg       0.59      0.52      0.52       247\n",
      "weighted avg       0.82      0.87      0.83       247\n",
      "\n",
      "Confusion Matrix\n",
      "[[213   5]\n",
      " [ 27   2]]\n",
      "Accuracy: 0.8704453441295547\n"
     ]
    }
   ],
   "source": [
    "print(\"*********RF Algorithm******\")\n",
    "from sklearn.ensemble import RandomForestClassifier\n",
    "model_rf = RandomForestClassifier()\n",
    "fittedModel = model_rf.fit(x_train, y_train)\n",
    "predictions = fittedModel.predict(x_test)\n",
    "print(\"Classification Report\")\n",
    "print(classification_report(y_test, predictions))\n",
    "print(\"Confusion Matrix\")\n",
    "print(confusion_matrix(y_test, predictions))\n",
    "print(\"Accuracy:\", accuracy_score(y_test, predictions))"
   ]
  },
  {
   "cell_type": "code",
   "execution_count": 6,
   "metadata": {},
   "outputs": [
    {
     "name": "stdout",
     "output_type": "stream",
     "text": [
      "*********Naive Bayes Algorithm******\n",
      "Classification Report\n",
      "              precision    recall  f1-score   support\n",
      "\n",
      "           0       0.88      0.97      0.92       218\n",
      "           1       0.00      0.00      0.00        29\n",
      "\n",
      "    accuracy                           0.86       247\n",
      "   macro avg       0.44      0.49      0.46       247\n",
      "weighted avg       0.78      0.86      0.82       247\n",
      "\n",
      "Confusion Matrix\n",
      "[[212   6]\n",
      " [ 29   0]]\n",
      "Accuracy: 0.8582995951417004\n"
     ]
    }
   ],
   "source": [
    "print(\"*********Naive Bayes Algorithm******\")\n",
    "model_nb = BernoulliNB()\n",
    "fittedModel = model_nb.fit(x_train, y_train)\n",
    "predictions = fittedModel.predict(x_test)\n",
    "print(\"Classification Report\")\n",
    "print(classification_report(y_test, predictions))\n",
    "print(\"Confusion Matrix\")\n",
    "print(confusion_matrix(y_test, predictions))\n",
    "print(\"Accuracy:\", accuracy_score(y_test, predictions))"
   ]
  },
  {
   "cell_type": "code",
   "execution_count": 7,
   "metadata": {},
   "outputs": [
    {
     "name": "stdout",
     "output_type": "stream",
     "text": [
      "*******Decision Tree Classifier*********\n",
      "Classification Report\n",
      "              precision    recall  f1-score   support\n",
      "\n",
      "           0       0.88      0.87      0.88       218\n",
      "           1       0.12      0.14      0.13        29\n",
      "\n",
      "    accuracy                           0.79       247\n",
      "   macro avg       0.50      0.50      0.50       247\n",
      "weighted avg       0.79      0.79      0.79       247\n",
      "\n",
      "Confusion Matrix\n",
      "[[190  28]\n",
      " [ 25   4]]\n",
      "Accuracy score 0.7854251012145749\n"
     ]
    }
   ],
   "source": [
    "print(\"*******Decision Tree Classifier*********\")\n",
    "from sklearn.tree import DecisionTreeClassifier\n",
    "model_dt = DecisionTreeClassifier()\n",
    "model_dt = model_dt.fit(x_train, y_train)\n",
    "clf_pred = model_dt.predict(x_test)\n",
    "print(\"Classification Report\")\n",
    "print(classification_report(y_test, clf_pred))\n",
    "print(\"Confusion Matrix\")\n",
    "print(confusion_matrix(y_test, clf_pred))\n",
    "print(\"Accuracy score\", accuracy_score(y_test, clf_pred))"
   ]
  },
  {
   "cell_type": "code",
   "execution_count": 8,
   "metadata": {},
   "outputs": [
    {
     "name": "stdout",
     "output_type": "stream",
     "text": [
      "********* Perceptron ***********\n",
      "Classification Report\n",
      "              precision    recall  f1-score   support\n",
      "\n",
      "           0       0.88      1.00      0.94       218\n",
      "           1       0.00      0.00      0.00        29\n",
      "\n",
      "    accuracy                           0.88       247\n",
      "   macro avg       0.44      0.50      0.47       247\n",
      "weighted avg       0.78      0.88      0.83       247\n",
      "\n",
      "Confusion Matrix\n",
      "[[218   0]\n",
      " [ 29   0]]\n",
      "Accuracy score 0.8825910931174089\n"
     ]
    },
    {
     "name": "stderr",
     "output_type": "stream",
     "text": [
      "/Users/anshulgoyal/opt/anaconda3/lib/python3.7/site-packages/sklearn/metrics/_classification.py:1272: UndefinedMetricWarning: Precision and F-score are ill-defined and being set to 0.0 in labels with no predicted samples. Use `zero_division` parameter to control this behavior.\n",
      "  _warn_prf(average, modifier, msg_start, len(result))\n"
     ]
    }
   ],
   "source": [
    "print(\"********* Perceptron ***********\")\n",
    "from sklearn.linear_model import Perceptron\n",
    "ppn = Perceptron(eta0=0.1, random_state=0)\n",
    "ppn.fit(x_train, y_train)\n",
    "ppn_predict = ppn.predict(x_test)\n",
    "print(\"Classification Report\")\n",
    "print(classification_report(y_test, ppn_predict))\n",
    "print(\"Confusion Matrix\")\n",
    "print(confusion_matrix(y_test, ppn_predict))\n",
    "print(\"Accuracy score\", accuracy_score(y_test, ppn_predict))"
   ]
  },
  {
   "cell_type": "code",
   "execution_count": 9,
   "metadata": {},
   "outputs": [
    {
     "name": "stdout",
     "output_type": "stream",
     "text": [
      "*********Logistic Regression:*******\n",
      "Classification Report\n",
      "              precision    recall  f1-score   support\n",
      "\n",
      "           0       0.88      1.00      0.94       218\n",
      "           1       0.00      0.00      0.00        29\n",
      "\n",
      "    accuracy                           0.88       247\n",
      "   macro avg       0.44      0.50      0.47       247\n",
      "weighted avg       0.78      0.88      0.83       247\n",
      "\n",
      "Confusion Matrix\n",
      "[[218   0]\n",
      " [ 29   0]]\n",
      "Accuracy score 0.8825910931174089\n"
     ]
    },
    {
     "name": "stderr",
     "output_type": "stream",
     "text": [
      "/Users/anshulgoyal/opt/anaconda3/lib/python3.7/site-packages/sklearn/metrics/_classification.py:1272: UndefinedMetricWarning: Precision and F-score are ill-defined and being set to 0.0 in labels with no predicted samples. Use `zero_division` parameter to control this behavior.\n",
      "  _warn_prf(average, modifier, msg_start, len(result))\n"
     ]
    }
   ],
   "source": [
    "print(\"*********Logistic Regression:*******\")\n",
    "logreg = LogisticRegression(solver='lbfgs')\n",
    "logreg.fit(x_train, y_train)\n",
    "logpredictions = logreg.predict(x_test)\n",
    "print(\"Classification Report\")\n",
    "print(classification_report(y_test, logpredictions))\n",
    "print(\"Confusion Matrix\")\n",
    "print(confusion_matrix(y_test, logpredictions))\n",
    "print(\"Accuracy score\", accuracy_score(y_test, logpredictions))"
   ]
  },
  {
   "cell_type": "code",
   "execution_count": 10,
   "metadata": {},
   "outputs": [
    {
     "name": "stdout",
     "output_type": "stream",
     "text": [
      "*********Ridge***********\n",
      "Classification Report\n",
      "              precision    recall  f1-score   support\n",
      "\n",
      "           0       0.88      1.00      0.94       218\n",
      "           1       0.00      0.00      0.00        29\n",
      "\n",
      "    accuracy                           0.88       247\n",
      "   macro avg       0.44      0.50      0.47       247\n",
      "weighted avg       0.78      0.88      0.83       247\n",
      "\n",
      "Confusion Matrix\n",
      "[[218   0]\n",
      " [ 29   0]]\n",
      "Accuracy score 0.8825910931174089\n"
     ]
    },
    {
     "name": "stderr",
     "output_type": "stream",
     "text": [
      "/Users/anshulgoyal/opt/anaconda3/lib/python3.7/site-packages/sklearn/metrics/_classification.py:1272: UndefinedMetricWarning: Precision and F-score are ill-defined and being set to 0.0 in labels with no predicted samples. Use `zero_division` parameter to control this behavior.\n",
      "  _warn_prf(average, modifier, msg_start, len(result))\n"
     ]
    }
   ],
   "source": [
    "print(\"*********Ridge***********\")\n",
    "rdg = RidgeClassifier().fit(x_train, y_train)\n",
    "rdg_pred = rdg.predict(x_test)\n",
    "print(\"Classification Report\")\n",
    "print(classification_report(y_test, rdg_pred))\n",
    "print(\"Confusion Matrix\")\n",
    "print(confusion_matrix(y_test, rdg_pred))\n",
    "print(\"Accuracy score\", accuracy_score(y_test, rdg_pred))"
   ]
  },
  {
   "cell_type": "code",
   "execution_count": 11,
   "metadata": {},
   "outputs": [
    {
     "name": "stdout",
     "output_type": "stream",
     "text": [
      "*********LASSO***********\n",
      "Classification Report\n",
      "              precision    recall  f1-score   support\n",
      "\n",
      "           0       0.88      1.00      0.94       218\n",
      "           1       0.00      0.00      0.00        29\n",
      "\n",
      "    accuracy                           0.88       247\n",
      "   macro avg       0.44      0.50      0.47       247\n",
      "weighted avg       0.78      0.88      0.83       247\n",
      "\n",
      "Confusion Matrix\n",
      "[[218   0]\n",
      " [ 29   0]]\n",
      "Accuracy score 0.8825910931174089\n"
     ]
    },
    {
     "name": "stderr",
     "output_type": "stream",
     "text": [
      "/Users/anshulgoyal/opt/anaconda3/lib/python3.7/site-packages/sklearn/metrics/_classification.py:1272: UndefinedMetricWarning: Precision and F-score are ill-defined and being set to 0.0 in labels with no predicted samples. Use `zero_division` parameter to control this behavior.\n",
      "  _warn_prf(average, modifier, msg_start, len(result))\n"
     ]
    }
   ],
   "source": [
    "print(\"*********LASSO***********\")\n",
    "from sklearn.linear_model import Lasso\n",
    "lasso = Lasso()\n",
    "lsr = lasso.fit(x_train, y_train)\n",
    "lsr_pred = lsr.predict(x_test)\n",
    "print(\"Classification Report\")\n",
    "print(classification_report(y_test, lsr_pred.round()))\n",
    "print(\"Confusion Matrix\")\n",
    "print(confusion_matrix(y_test, lsr_pred.round()))\n",
    "print(\"Accuracy score\", accuracy_score(y_test, lsr_pred.round()))"
   ]
  },
  {
   "cell_type": "code",
   "execution_count": 12,
   "metadata": {},
   "outputs": [],
   "source": [
    "from joblib import load, dump"
   ]
  },
  {
   "cell_type": "code",
   "execution_count": 13,
   "metadata": {},
   "outputs": [
    {
     "data": {
      "text/plain": [
       "['lasso_model.pkl']"
      ]
     },
     "execution_count": 13,
     "metadata": {},
     "output_type": "execute_result"
    }
   ],
   "source": [
    "dump(lasso, \"lasso_model.pkl\")"
   ]
  },
  {
   "cell_type": "code",
   "execution_count": 14,
   "metadata": {},
   "outputs": [
    {
     "data": {
      "text/plain": [
       "['ridge_model.pkl']"
      ]
     },
     "execution_count": 14,
     "metadata": {},
     "output_type": "execute_result"
    }
   ],
   "source": [
    "dump(rdg, \"ridge_model.pkl\")"
   ]
  },
  {
   "cell_type": "code",
   "execution_count": 15,
   "metadata": {},
   "outputs": [
    {
     "data": {
      "text/plain": [
       "['logistic_regression_model.pkl']"
      ]
     },
     "execution_count": 15,
     "metadata": {},
     "output_type": "execute_result"
    }
   ],
   "source": [
    "dump(logreg, \"logistic_regression_model.pkl\")"
   ]
  },
  {
   "cell_type": "code",
   "execution_count": 16,
   "metadata": {},
   "outputs": [
    {
     "data": {
      "text/plain": [
       "['perceptron_model.pkl']"
      ]
     },
     "execution_count": 16,
     "metadata": {},
     "output_type": "execute_result"
    }
   ],
   "source": [
    "dump(ppn, \"perceptron_model.pkl\")"
   ]
  },
  {
   "cell_type": "code",
   "execution_count": 17,
   "metadata": {},
   "outputs": [
    {
     "data": {
      "text/plain": [
       "['decision_tree_model.pkl']"
      ]
     },
     "execution_count": 17,
     "metadata": {},
     "output_type": "execute_result"
    }
   ],
   "source": [
    "dump(model_dt, \"decision_tree_model.pkl\")"
   ]
  },
  {
   "cell_type": "code",
   "execution_count": 18,
   "metadata": {},
   "outputs": [
    {
     "data": {
      "text/plain": [
       "['naive_bayes_model.pkl']"
      ]
     },
     "execution_count": 18,
     "metadata": {},
     "output_type": "execute_result"
    }
   ],
   "source": [
    "dump(model_nb, \"naive_bayes_model.pkl\")"
   ]
  },
  {
   "cell_type": "code",
   "execution_count": 19,
   "metadata": {},
   "outputs": [
    {
     "data": {
      "text/plain": [
       "['random_forest_model.pkl']"
      ]
     },
     "execution_count": 19,
     "metadata": {},
     "output_type": "execute_result"
    }
   ],
   "source": [
    "dump(model_rf, \"random_forest_model.pkl\")"
   ]
  },
  {
   "cell_type": "code",
   "execution_count": null,
   "metadata": {},
   "outputs": [],
   "source": []
  }
 ],
 "metadata": {
  "kernelspec": {
   "display_name": "Python 3",
   "language": "python",
   "name": "python3"
  },
  "language_info": {
   "codemirror_mode": {
    "name": "ipython",
    "version": 3
   },
   "file_extension": ".py",
   "mimetype": "text/x-python",
   "name": "python",
   "nbconvert_exporter": "python",
   "pygments_lexer": "ipython3",
   "version": "3.7.6"
  },
  "pycharm": {
   "stem_cell": {
    "cell_type": "raw",
    "source": [],
    "metadata": {
     "collapsed": false
    }
   }
  }
 },
 "nbformat": 4,
 "nbformat_minor": 4
}